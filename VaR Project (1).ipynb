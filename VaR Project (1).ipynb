{
 "cells": [
  {
   "cell_type": "markdown",
   "id": "a7b23559",
   "metadata": {},
   "source": [
    "# Parametric Method to calculate VaR\n",
    "\n",
    "## Definition\n",
    "\n",
    "The Parametric method, also known as variance-covariance method, is one of the approaches used to calculate VaR. In the Parametric VaR method, the volatility of the portfolio is estimated based on historical data or statistical models. The standard deviation of the portfolio's returns is often used as a measure of volatility. Once the volatility is estimated, VaR can be calculated using a normal distribution assumption.\n",
    "\n",
    "\n",
    "\n",
    "The formula for Parametric VaR is often given by:\n",
    "\n",
    "$VaR = \\text{Portfolio Value} \\times \\text{Z-score} \\times \\text{Portfolio Volatility} \\times \\sqrt{\\text{Time Horizon}}$\n",
    "\n",
    "Where:\n",
    "- Z-score represents the number of standard deviations corresponding to the desired confidence level (e.g., 1.96 for a 95% confidence level).\n",
    "- Portfolio Volatility is the standard deviation of the portfolio's returns."
   ]
  },
  {
   "cell_type": "code",
   "execution_count": 2,
   "id": "39e3d38b",
   "metadata": {},
   "outputs": [],
   "source": [
    "import numpy as np\n",
    "import pandas as pd\n",
    "import datetime as dt\n",
    "import yfinance as yf\n",
    "import matplotlib.pyplot as plt"
   ]
  },
  {
   "cell_type": "markdown",
   "id": "3dc63a48",
   "metadata": {},
   "source": [
    "## Implementation\n",
    "\n",
    "We will use `yfinance` library to download historical stock data for this exercise.\n",
    "\n",
    "### Set Timeframe and Define Tickers\n",
    "\n",
    "First, we will define the time range for our analysis and create a list of tickers we want to include in our portfolio:"
   ]
  },
  {
   "cell_type": "code",
   "execution_count": 3,
   "id": "8804e1d7",
   "metadata": {},
   "outputs": [],
   "source": [
    "years=15\n",
    "endDate=dt.datetime.now()\n",
    "startDate=endDate-dt.timedelta(days=365*years)\n",
    "\n",
    "tickers=['RELIANCE.NS','HDFCBANK.NS','TATASTEEL.NS','INFY.NS','ICICIBANK.NS']"
   ]
  },
  {
   "cell_type": "code",
   "execution_count": 4,
   "id": "497309a7",
   "metadata": {},
   "outputs": [
    {
     "name": "stdout",
     "output_type": "stream",
     "text": [
      "2025-07-05 13:51:28.193866\n"
     ]
    }
   ],
   "source": [
    "print(endDate)"
   ]
  },
  {
   "cell_type": "code",
   "execution_count": 5,
   "id": "27db13ef",
   "metadata": {},
   "outputs": [
    {
     "name": "stdout",
     "output_type": "stream",
     "text": [
      "2010-07-09 13:51:28.193866\n"
     ]
    }
   ],
   "source": [
    "print(startDate)"
   ]
  },
  {
   "cell_type": "markdown",
   "id": "3b6db01f",
   "metadata": {},
   "source": [
    "# Downloading ticker data and calculate Log returns\n",
    "\n",
    "We download the data using for loop and iterating it over the tickers list and created a dataframe to include only closing prices from which we will calculate log returns"
   ]
  },
  {
   "cell_type": "code",
   "execution_count": 6,
   "id": "1b6cbe89",
   "metadata": {},
   "outputs": [
    {
     "name": "stderr",
     "output_type": "stream",
     "text": [
      "C:\\Users\\Dell\\AppData\\Local\\Temp/ipykernel_16252/2837166152.py:3: FutureWarning: YF.download() has changed argument auto_adjust default to True\n",
      "  data=yf.download(ticker,start=startDate,end=endDate)\n",
      "[*********************100%***********************]  1 of 1 completed\n",
      "C:\\Users\\Dell\\AppData\\Local\\Temp/ipykernel_16252/2837166152.py:3: FutureWarning: YF.download() has changed argument auto_adjust default to True\n",
      "  data=yf.download(ticker,start=startDate,end=endDate)\n",
      "[*********************100%***********************]  1 of 1 completed\n",
      "C:\\Users\\Dell\\AppData\\Local\\Temp/ipykernel_16252/2837166152.py:3: FutureWarning: YF.download() has changed argument auto_adjust default to True\n",
      "  data=yf.download(ticker,start=startDate,end=endDate)\n",
      "[*********************100%***********************]  1 of 1 completed\n",
      "C:\\Users\\Dell\\AppData\\Local\\Temp/ipykernel_16252/2837166152.py:3: FutureWarning: YF.download() has changed argument auto_adjust default to True\n",
      "  data=yf.download(ticker,start=startDate,end=endDate)\n",
      "[*********************100%***********************]  1 of 1 completed\n",
      "C:\\Users\\Dell\\AppData\\Local\\Temp/ipykernel_16252/2837166152.py:3: FutureWarning: YF.download() has changed argument auto_adjust default to True\n",
      "  data=yf.download(ticker,start=startDate,end=endDate)\n",
      "[*********************100%***********************]  1 of 1 completed\n"
     ]
    }
   ],
   "source": [
    "adj_close_df=pd.DataFrame()\n",
    "for ticker in tickers:\n",
    "    data=yf.download(ticker,start=startDate,end=endDate)\n",
    "    adj_close_df[ticker]=data['Close']\n",
    "log_returns=np.log(adj_close_df/adj_close_df.shift(1))\n",
    "log_returns=log_returns.dropna()"
   ]
  },
  {
   "cell_type": "code",
   "execution_count": 7,
   "id": "20e72b5b",
   "metadata": {},
   "outputs": [
    {
     "name": "stdout",
     "output_type": "stream",
     "text": [
      "            RELIANCE.NS  HDFCBANK.NS  TATASTEEL.NS   INFY.NS  ICICIBANK.NS\n",
      "Date                                                                      \n",
      "2010-07-12    -0.001325     0.023050      0.019885  0.007661      0.019838\n",
      "2010-07-13     0.016945     0.011208      0.021957 -0.034838      0.006693\n",
      "2010-07-14    -0.003590     0.006613     -0.005716 -0.019442     -0.009159\n",
      "2010-07-15     0.002799    -0.011425      0.013449  0.006070     -0.010603\n",
      "2010-07-16    -0.009830    -0.011532     -0.007832  0.006285      0.023036\n",
      "...                 ...          ...           ...       ...           ...\n",
      "2025-06-30    -0.009814    -0.006673     -0.010523 -0.003863     -0.011279\n",
      "2025-07-01     0.018356     0.005282      0.001876  0.003117     -0.009591\n",
      "2025-07-02    -0.006301    -0.013056      0.035716  0.002300     -0.002937\n",
      "2025-07-03    -0.000659     0.000554      0.000181  0.005079     -0.001332\n",
      "2025-07-04     0.006240     0.001107     -0.017634  0.013500      0.011782\n",
      "\n",
      "[3698 rows x 5 columns]\n"
     ]
    }
   ],
   "source": [
    "print(log_returns)"
   ]
  },
  {
   "cell_type": "code",
   "execution_count": 9,
   "id": "dd569c06",
   "metadata": {},
   "outputs": [
    {
     "data": {
      "text/html": [
       "<div>\n",
       "<style scoped>\n",
       "    .dataframe tbody tr th:only-of-type {\n",
       "        vertical-align: middle;\n",
       "    }\n",
       "\n",
       "    .dataframe tbody tr th {\n",
       "        vertical-align: top;\n",
       "    }\n",
       "\n",
       "    .dataframe thead tr th {\n",
       "        text-align: left;\n",
       "    }\n",
       "\n",
       "    .dataframe thead tr:last-of-type th {\n",
       "        text-align: right;\n",
       "    }\n",
       "</style>\n",
       "<table border=\"1\" class=\"dataframe\">\n",
       "  <thead>\n",
       "    <tr>\n",
       "      <th>Price</th>\n",
       "      <th>Close</th>\n",
       "      <th>High</th>\n",
       "      <th>Low</th>\n",
       "      <th>Open</th>\n",
       "      <th>Volume</th>\n",
       "    </tr>\n",
       "    <tr>\n",
       "      <th>Ticker</th>\n",
       "      <th>INFY.NS</th>\n",
       "      <th>INFY.NS</th>\n",
       "      <th>INFY.NS</th>\n",
       "      <th>INFY.NS</th>\n",
       "      <th>INFY.NS</th>\n",
       "    </tr>\n",
       "    <tr>\n",
       "      <th>Date</th>\n",
       "      <th></th>\n",
       "      <th></th>\n",
       "      <th></th>\n",
       "      <th></th>\n",
       "      <th></th>\n",
       "    </tr>\n",
       "  </thead>\n",
       "  <tbody>\n",
       "    <tr>\n",
       "      <th>2010-07-09</th>\n",
       "      <td>257.174927</td>\n",
       "      <td>257.774502</td>\n",
       "      <td>253.980156</td>\n",
       "      <td>253.980156</td>\n",
       "      <td>7859112</td>\n",
       "    </tr>\n",
       "    <tr>\n",
       "      <th>2010-07-12</th>\n",
       "      <td>259.152618</td>\n",
       "      <td>260.414429</td>\n",
       "      <td>255.045059</td>\n",
       "      <td>255.049538</td>\n",
       "      <td>8597240</td>\n",
       "    </tr>\n",
       "    <tr>\n",
       "      <th>2010-07-13</th>\n",
       "      <td>250.279709</td>\n",
       "      <td>257.286740</td>\n",
       "      <td>248.870250</td>\n",
       "      <td>256.834813</td>\n",
       "      <td>25502384</td>\n",
       "    </tr>\n",
       "    <tr>\n",
       "      <th>2010-07-14</th>\n",
       "      <td>245.460709</td>\n",
       "      <td>251.375973</td>\n",
       "      <td>244.932729</td>\n",
       "      <td>249.671193</td>\n",
       "      <td>14193928</td>\n",
       "    </tr>\n",
       "    <tr>\n",
       "      <th>2010-07-15</th>\n",
       "      <td>246.955215</td>\n",
       "      <td>248.422834</td>\n",
       "      <td>245.201213</td>\n",
       "      <td>246.002139</td>\n",
       "      <td>8328136</td>\n",
       "    </tr>\n",
       "    <tr>\n",
       "      <th>...</th>\n",
       "      <td>...</td>\n",
       "      <td>...</td>\n",
       "      <td>...</td>\n",
       "      <td>...</td>\n",
       "      <td>...</td>\n",
       "    </tr>\n",
       "    <tr>\n",
       "      <th>2025-06-30</th>\n",
       "      <td>1601.800049</td>\n",
       "      <td>1615.000000</td>\n",
       "      <td>1594.099976</td>\n",
       "      <td>1615.000000</td>\n",
       "      <td>6294505</td>\n",
       "    </tr>\n",
       "    <tr>\n",
       "      <th>2025-07-01</th>\n",
       "      <td>1606.800049</td>\n",
       "      <td>1617.699951</td>\n",
       "      <td>1600.500000</td>\n",
       "      <td>1609.000000</td>\n",
       "      <td>4178937</td>\n",
       "    </tr>\n",
       "    <tr>\n",
       "      <th>2025-07-02</th>\n",
       "      <td>1610.500000</td>\n",
       "      <td>1649.000000</td>\n",
       "      <td>1603.400024</td>\n",
       "      <td>1618.000000</td>\n",
       "      <td>8653641</td>\n",
       "    </tr>\n",
       "    <tr>\n",
       "      <th>2025-07-03</th>\n",
       "      <td>1618.699951</td>\n",
       "      <td>1632.400024</td>\n",
       "      <td>1615.000000</td>\n",
       "      <td>1618.500000</td>\n",
       "      <td>5259695</td>\n",
       "    </tr>\n",
       "    <tr>\n",
       "      <th>2025-07-04</th>\n",
       "      <td>1640.699951</td>\n",
       "      <td>1643.400024</td>\n",
       "      <td>1612.300049</td>\n",
       "      <td>1625.000000</td>\n",
       "      <td>4411273</td>\n",
       "    </tr>\n",
       "  </tbody>\n",
       "</table>\n",
       "<p>3699 rows × 5 columns</p>\n",
       "</div>"
      ],
      "text/plain": [
       "Price             Close         High          Low         Open    Volume\n",
       "Ticker          INFY.NS      INFY.NS      INFY.NS      INFY.NS   INFY.NS\n",
       "Date                                                                    \n",
       "2010-07-09   257.174927   257.774502   253.980156   253.980156   7859112\n",
       "2010-07-12   259.152618   260.414429   255.045059   255.049538   8597240\n",
       "2010-07-13   250.279709   257.286740   248.870250   256.834813  25502384\n",
       "2010-07-14   245.460709   251.375973   244.932729   249.671193  14193928\n",
       "2010-07-15   246.955215   248.422834   245.201213   246.002139   8328136\n",
       "...                 ...          ...          ...          ...       ...\n",
       "2025-06-30  1601.800049  1615.000000  1594.099976  1615.000000   6294505\n",
       "2025-07-01  1606.800049  1617.699951  1600.500000  1609.000000   4178937\n",
       "2025-07-02  1610.500000  1649.000000  1603.400024  1618.000000   8653641\n",
       "2025-07-03  1618.699951  1632.400024  1615.000000  1618.500000   5259695\n",
       "2025-07-04  1640.699951  1643.400024  1612.300049  1625.000000   4411273\n",
       "\n",
       "[3699 rows x 5 columns]"
      ]
     },
     "execution_count": 9,
     "metadata": {},
     "output_type": "execute_result"
    }
   ],
   "source": [
    "data"
   ]
  },
  {
   "cell_type": "code",
   "execution_count": 10,
   "id": "e1ac05a5",
   "metadata": {},
   "outputs": [
    {
     "name": "stdout",
     "output_type": "stream",
     "text": [
      "            RELIANCE.NS  HDFCBANK.NS  TATASTEEL.NS      INFY.NS  ICICIBANK.NS\n",
      "Date                                                                         \n",
      "2010-07-09   217.420197   177.563248     31.551899   257.174927    135.777664\n",
      "2010-07-12   217.132401   181.703659     32.185593   259.152649    138.498138\n",
      "2010-07-13   220.842957   183.751663     32.900108   250.279739    139.428238\n",
      "2010-07-14   220.051483   184.970749     32.712593   245.460739    138.157104\n",
      "2010-07-15   220.668182   182.869507     33.155518   246.955231    136.699951\n",
      "...                 ...          ...           ...          ...           ...\n",
      "2025-06-30  1500.599976  2001.500000    159.759995  1601.800049   1445.800049\n",
      "2025-07-01  1528.400024  2012.099976    160.059998  1606.800049   1432.000000\n",
      "2025-07-02  1518.800049  1986.000000    165.880005  1610.500000   1427.800049\n",
      "2025-07-03  1517.800049  1987.099976    165.910004  1618.699951   1425.900024\n",
      "2025-07-04  1527.300049  1989.300049    163.009995  1640.699951   1442.800049\n",
      "\n",
      "[3699 rows x 5 columns]\n"
     ]
    }
   ],
   "source": [
    "print(adj_close_df)"
   ]
  },
  {
   "cell_type": "markdown",
   "id": "6756352f",
   "metadata": {},
   "source": [
    "###  Create Equally Weighted Portfolio and Calculate Historical Returns\n",
    "\n",
    "We will create an equally weighted portfolio and calculate the historical returns for this portfolio:"
   ]
  },
  {
   "cell_type": "code",
   "execution_count": 11,
   "id": "64aa8691",
   "metadata": {},
   "outputs": [],
   "source": [
    "portfolio_value=10000000\n",
    "weights=np.array([1/len(tickers)]*len(tickers)) #create an array of weights\n",
    "historical_returns=(log_returns*weights).sum(axis=1) # Multiply return of each stocks with their weights and sum it up"
   ]
  },
  {
   "cell_type": "code",
   "execution_count": 12,
   "id": "28f7b137",
   "metadata": {},
   "outputs": [
    {
     "name": "stdout",
     "output_type": "stream",
     "text": [
      "[0.2 0.2 0.2 0.2 0.2]\n"
     ]
    }
   ],
   "source": [
    "print(weights)"
   ]
  },
  {
   "cell_type": "code",
   "execution_count": 13,
   "id": "9132d34a",
   "metadata": {},
   "outputs": [
    {
     "name": "stdout",
     "output_type": "stream",
     "text": [
      "Date\n",
      "2010-07-12    0.013822\n",
      "2010-07-13    0.004393\n",
      "2010-07-14   -0.006259\n",
      "2010-07-15    0.000058\n",
      "2010-07-16    0.000026\n",
      "                ...   \n",
      "2025-06-30   -0.008430\n",
      "2025-07-01    0.003808\n",
      "2025-07-02    0.003144\n",
      "2025-07-03    0.000765\n",
      "2025-07-04    0.002999\n",
      "Length: 3698, dtype: float64\n"
     ]
    }
   ],
   "source": [
    "print(historical_returns)"
   ]
  },
  {
   "cell_type": "markdown",
   "id": "740d664e",
   "metadata": {},
   "source": [
    "## Multiplying VaR with square root of days requires assumptions like Normal distribution, returns are uncorelated, constant volatility. Hence we calculate rolling return, i.e Cumulative return"
   ]
  },
  {
   "cell_type": "code",
   "execution_count": 15,
   "id": "735beb78",
   "metadata": {},
   "outputs": [],
   "source": [
    "days=5\n",
    "historical_x_day_returns=historical_returns.rolling(window=days).sum() "
   ]
  },
  {
   "cell_type": "code",
   "execution_count": 16,
   "id": "5266731a",
   "metadata": {},
   "outputs": [
    {
     "name": "stdout",
     "output_type": "stream",
     "text": [
      "Date\n",
      "2010-07-12         NaN\n",
      "2010-07-13         NaN\n",
      "2010-07-14         NaN\n",
      "2010-07-15         NaN\n",
      "2010-07-16    0.012040\n",
      "                ...   \n",
      "2025-06-30    0.028706\n",
      "2025-07-01    0.028728\n",
      "2025-07-02    0.021189\n",
      "2025-07-03    0.006784\n",
      "2025-07-04    0.002285\n",
      "Length: 3698, dtype: float64\n"
     ]
    }
   ],
   "source": [
    "print(historical_x_day_returns)"
   ]
  },
  {
   "cell_type": "markdown",
   "id": "2a41909c",
   "metadata": {},
   "source": [
    "### Create Covariance Matrix and Calculate Portfolio Standard Deviation\n",
    "No: of trading days ina  a year is 252\n",
    "\n",
    "weights.T Transposes the weight vector from row to column\n",
    "\n",
    "@ is matrix multiplication vector in python\n",
    "\n",
    "Calcualtion of annualised std dev\n"
   ]
  },
  {
   "cell_type": "code",
   "execution_count": 17,
   "id": "2db1e543",
   "metadata": {},
   "outputs": [],
   "source": [
    "\n",
    "cov_matrix=log_returns.cov()*252\n",
    "portfolio_std_dev=np.sqrt(weights.T @ cov_matrix @ weights)"
   ]
  },
  {
   "cell_type": "markdown",
   "id": "33d4f192",
   "metadata": {},
   "source": [
    "### Calculate VaR at Different Confidence Levels\n",
    "\n",
    "We will calculate the Value at Risk (VaR) at different confidence levels:"
   ]
  },
  {
   "cell_type": "code",
   "execution_count": 18,
   "id": "5b20955e",
   "metadata": {},
   "outputs": [],
   "source": [
    "from scipy.stats import norm"
   ]
  },
  {
   "cell_type": "code",
   "execution_count": 19,
   "id": "1691fa57",
   "metadata": {},
   "outputs": [],
   "source": [
    "confidence_intervals=[0.90,0.95,0.99]\n",
    "VaRs=[]\n",
    "for ci in confidence_intervals:\n",
    "    VaR=portfolio_value*(norm.ppf(1-ci)*portfolio_std_dev*np.sqrt(days/252)-historical_returns.mean()*days)\n",
    "    VaRs.append(VaR)"
   ]
  },
  {
   "cell_type": "code",
   "execution_count": 20,
   "id": "6260891f",
   "metadata": {},
   "outputs": [
    {
     "name": "stdout",
     "output_type": "stream",
     "text": [
      "Confidence interval VaR Amount\n",
      "----------------------------------------\n",
      "    90%: ₹         -394,355.86\n",
      "    95%: ₹         -498,312.42\n",
      "    99%: ₹         -693,317.65\n"
     ]
    }
   ],
   "source": [
    "print(f'{\"Confidence interval\":<18} {\"VaR Amount\":>10}')\n",
    "print(\"-\" * 40)\n",
    "\n",
    "for ci,VaR in zip(confidence_intervals,VaRs): #Zip function is used for element wise matchup\n",
    "      print(f'{ci * 100:>6.0f}%: ₹{VaR:>20,.2f}')"
   ]
  },
  {
   "cell_type": "markdown",
   "id": "87491ce3",
   "metadata": {},
   "source": [
    "### Plot the Distribution of Portfolio Returns and Parametric VaR Estimates\n",
    "\n",
    "Finally, we will plot the distribution of the X-day portfolio returns and the parametric VaR estimates:"
   ]
  },
  {
   "cell_type": "code",
   "execution_count": 44,
   "id": "0e344d52",
   "metadata": {},
   "outputs": [
    {
     "data": {
      "image/png": "[encoded data removed]",
      "text/plain": [
       "<Figure size 432x288 with 1 Axes>"
      ]
     },
     "metadata": {
      "needs_background": "light"
     },
     "output_type": "display_data"
    }
   ],
   "source": [
    "historical_returns_value=(historical_x_day_returns*portfolio_value)\n",
    "\n",
    "plt.hist(historical_returns_value/1e6,bins=50,density=True,alpha=0.5,label=f'{days}-Day Returns')\n",
    "\n",
    "for ci,VaR in zip(confidence_intervals,VaRs):\n",
    "    plt.axvline(x=-VaR/1e6,linestyle='--',color='r',label='VaR at {}% Confidence'.format(int(ci*100)))\n",
    "    \n",
    "plt.xlabel(f'{days}-Day Portfolio Return (₹)')\n",
    "plt.ylabel('Probability Density')\n",
    "plt.title(f'Distribution of Portfolio{days}-Day Returns and Parametric VaR estimates')\n",
    "plt.legend()\n",
    "plt.show()"
   ]
  },
  {
   "cell_type": "markdown",
   "id": "ffa52ee9",
   "metadata": {},
   "source": [
    "### Calculate Expected Shortfall at Different Confidence Levels\n",
    "\n",
    "We will calculate the Expected Shortfall or Conditional VaR at different confidence levels:\n",
    "\n",
    "Expected shortfall (ES), also known as Conditional Value at Risk (CVaR), is a risk measure that quantifies the expected loss given that a loss exceeds VaR threshold"
   ]
  },
  {
   "cell_type": "code",
   "execution_count": 33,
   "id": "9e961346",
   "metadata": {},
   "outputs": [],
   "source": [
    "condifdence_intervals=[0.90,0.95,0.99]\n",
    "ES=[]\n",
    "for ci in confidence_intervals:\n",
    "    var_cutoff=-norm.ppf(1-ci)*portfolio_std_dev*np.sqrt(days/252)\n",
    "    ES_cutoff=historical_returns[historical_returns > var_cutoff]\n",
    "    Exp_Shortfall=portfolio_value*ES_cutoff.mean()\n",
    "    ES.append(Exp_Shortfall)"
   ]
  },
  {
   "cell_type": "code",
   "execution_count": 34,
   "id": "160e8fee",
   "metadata": {},
   "outputs": [
    {
     "data": {
      "text/plain": [
       "[487850.4407221546, 646875.3883447653, 904256.0875540961]"
      ]
     },
     "execution_count": 34,
     "metadata": {},
     "output_type": "execute_result"
    }
   ],
   "source": [
    "ES"
   ]
  },
  {
   "cell_type": "code",
   "execution_count": 35,
   "id": "90e214c4",
   "metadata": {},
   "outputs": [
    {
     "name": "stdout",
     "output_type": "stream",
     "text": [
      "Confidence interval  ES Amount\n",
      "----------------------------------------\n",
      "    90%: ₹          487,850.44\n",
      "    95%: ₹          646,875.39\n",
      "    99%: ₹          904,256.09\n"
     ]
    }
   ],
   "source": [
    "print(f'{\"Confidence interval\":<18} {\"ES Amount\":>10}')\n",
    "print(\"-\" * 40)\n",
    "\n",
    "for ci,Exp_Shortfall in zip(confidence_intervals,ES): #Zip function is used for element wise matchup\n",
    "      print(f'{ci * 100:>6.0f}%: ₹{Exp_Shortfall:>20,.2f}')"
   ]
  },
  {
   "cell_type": "markdown",
   "id": "e44de7ff",
   "metadata": {},
   "source": [
    "### Backtesting the VaR using Kupiec's Test"
   ]
  },
  {
   "cell_type": "code",
   "execution_count": 39,
   "id": "2a105ce5",
   "metadata": {
    "scrolled": true
   },
   "outputs": [
    {
     "name": "stdout",
     "output_type": "stream",
     "text": [
      "38\n"
     ]
    }
   ],
   "source": [
    "from scipy.stats import norm,chi2\n",
    "violations=historical_return_rupee < VaR\n",
    "z=violations.sum()\n",
    "print(z)\n"
   ]
  },
  {
   "cell_type": "code",
   "execution_count": 45,
   "id": "26502fcb",
   "metadata": {},
   "outputs": [
    {
     "name": "stdout",
     "output_type": "stream",
     "text": [
      "{'LR Statistic': 4.4418165906956594e-57, 'Violations': 38, 'Total_obs': 3698, 'P Value': 1.0}\n"
     ]
    }
   ],
   "source": [
    "def backtest_var(violations,ci):\n",
    "    n=len(violations)\n",
    "    p=1-ci\n",
    "    x=violations.sum()\n",
    "    pi_hat=x/n\n",
    "    kupiec_test=-2*np.log((1-p)**(n-x)*p**x)/(1-(pi_hat))**(n-x)*(pi_hat)**x\n",
    "    p_value=1-chi2.cdf(kupiec_test,df=1)\n",
    "    return{\"LR Statistic\": kupiec_test,\n",
    "           \"Violations\" :x,\n",
    "           \"Total_obs\":n,\n",
    "          \"P Value\": p_value,\n",
    "}\n",
    "\n",
    "kupiec_result=backtest_var(violations,0.95)\n",
    "print(kupiec_result)"
   ]
  },
  {
   "cell_type": "markdown",
   "id": "814c4baa",
   "metadata": {},
   "source": [
    "**The above test showed us a violation of 38 instead of 3698*5% i.e 184 and high p value suggests we should not reject the null hypopthesis that model is incorrect**"
   ]
  }
 ],
 "metadata": {
  "kernelspec": {
   "display_name": "Python 3 (ipykernel)",
   "language": "python",
   "name": "python3"
  },
  "language_info": {
   "codemirror_mode": {
    "name": "ipython",
    "version": 3
   },
   "file_extension": ".py",
   "mimetype": "text/x-python",
   "name": "python",
   "nbconvert_exporter": "python",
   "pygments_lexer": "ipython3",
   "version": "3.9.7"
  }
 },
 "nbformat": 4,
 "nbformat_minor": 5
}
